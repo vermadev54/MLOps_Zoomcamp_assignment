{
 "cells": [
  {
   "cell_type": "code",
   "execution_count": 7,
   "id": "0eaa1920",
   "metadata": {},
   "outputs": [],
   "source": [
    "import pandas as pd\n",
    "from datetime import datetime\n",
    "\n",
    "def dt(hour, minute, second=0):\n",
    "    return datetime(2021, 1, 1, hour, minute, second)\n",
    "\n",
    "data = [\n",
    "    (None, None, dt(1, 2), dt(1, 10)),\n",
    "    (1, 1, dt(1, 2), dt(1, 10)),\n",
    "    (1, 1, dt(1, 2, 0), dt(1, 2, 50)),\n",
    "    (1, 1, dt(1, 2, 0), dt(2, 2, 1)),        \n",
    "]\n",
    "\n",
    "data = [\n",
    "    (None, None, dt(1, 2), dt(1, 10)),\n",
    "    (1, 1, dt(1, 2), dt(1, 10)),\n",
    "    (1, 1, dt(1, 2, 0), dt(1, 2, 50)),\n",
    "    (1, 1, dt(1, 2, 0), dt(2, 2, 1)),\n",
    "    ]\n",
    "\n",
    "\n",
    "\n",
    "columns = ['PUlocationID', 'DOlocationID', 'pickup_datetime', 'dropOff_datetime']\n",
    "df = pd.DataFrame(data, columns=columns)"
   ]
  },
  {
   "cell_type": "code",
   "execution_count": 8,
   "id": "148e086d",
   "metadata": {},
   "outputs": [],
   "source": [
    "df.to_parquet(\"input_unit_test.parquet\", engine='pyarrow', index=False)"
   ]
  },
  {
   "cell_type": "code",
   "execution_count": 9,
   "id": "f9219aa9",
   "metadata": {},
   "outputs": [
    {
     "data": {
      "text/html": [
       "<div>\n",
       "<style scoped>\n",
       "    .dataframe tbody tr th:only-of-type {\n",
       "        vertical-align: middle;\n",
       "    }\n",
       "\n",
       "    .dataframe tbody tr th {\n",
       "        vertical-align: top;\n",
       "    }\n",
       "\n",
       "    .dataframe thead th {\n",
       "        text-align: right;\n",
       "    }\n",
       "</style>\n",
       "<table border=\"1\" class=\"dataframe\">\n",
       "  <thead>\n",
       "    <tr style=\"text-align: right;\">\n",
       "      <th></th>\n",
       "      <th>PUlocationID</th>\n",
       "      <th>DOlocationID</th>\n",
       "      <th>pickup_datetime</th>\n",
       "      <th>dropOff_datetime</th>\n",
       "    </tr>\n",
       "  </thead>\n",
       "  <tbody>\n",
       "    <tr>\n",
       "      <th>0</th>\n",
       "      <td>NaN</td>\n",
       "      <td>NaN</td>\n",
       "      <td>2021-01-01 01:02:00</td>\n",
       "      <td>2021-01-01 01:10:00</td>\n",
       "    </tr>\n",
       "    <tr>\n",
       "      <th>1</th>\n",
       "      <td>1.0</td>\n",
       "      <td>1.0</td>\n",
       "      <td>2021-01-01 01:02:00</td>\n",
       "      <td>2021-01-01 01:10:00</td>\n",
       "    </tr>\n",
       "    <tr>\n",
       "      <th>2</th>\n",
       "      <td>1.0</td>\n",
       "      <td>1.0</td>\n",
       "      <td>2021-01-01 01:02:00</td>\n",
       "      <td>2021-01-01 01:02:50</td>\n",
       "    </tr>\n",
       "    <tr>\n",
       "      <th>3</th>\n",
       "      <td>1.0</td>\n",
       "      <td>1.0</td>\n",
       "      <td>2021-01-01 01:02:00</td>\n",
       "      <td>2021-01-01 02:02:01</td>\n",
       "    </tr>\n",
       "  </tbody>\n",
       "</table>\n",
       "</div>"
      ],
      "text/plain": [
       "   PUlocationID  DOlocationID     pickup_datetime    dropOff_datetime\n",
       "0           NaN           NaN 2021-01-01 01:02:00 2021-01-01 01:10:00\n",
       "1           1.0           1.0 2021-01-01 01:02:00 2021-01-01 01:10:00\n",
       "2           1.0           1.0 2021-01-01 01:02:00 2021-01-01 01:02:50\n",
       "3           1.0           1.0 2021-01-01 01:02:00 2021-01-01 02:02:01"
      ]
     },
     "execution_count": 9,
     "metadata": {},
     "output_type": "execute_result"
    }
   ],
   "source": [
    "df.head()"
   ]
  },
  {
   "cell_type": "code",
   "execution_count": 11,
   "id": "85d412d0",
   "metadata": {},
   "outputs": [],
   "source": [
    "now_time= datetime.now()\n",
    "month = now_time.month\n",
    "year = now_time.year\n",
    "\n",
    "df['ride_id'] = f'{year:04d}/{month:02d}_' + df.index.astype('str')"
   ]
  },
  {
   "cell_type": "code",
   "execution_count": 12,
   "id": "c553848a",
   "metadata": {},
   "outputs": [
    {
     "data": {
      "text/html": [
       "<div>\n",
       "<style scoped>\n",
       "    .dataframe tbody tr th:only-of-type {\n",
       "        vertical-align: middle;\n",
       "    }\n",
       "\n",
       "    .dataframe tbody tr th {\n",
       "        vertical-align: top;\n",
       "    }\n",
       "\n",
       "    .dataframe thead th {\n",
       "        text-align: right;\n",
       "    }\n",
       "</style>\n",
       "<table border=\"1\" class=\"dataframe\">\n",
       "  <thead>\n",
       "    <tr style=\"text-align: right;\">\n",
       "      <th></th>\n",
       "      <th>PUlocationID</th>\n",
       "      <th>DOlocationID</th>\n",
       "      <th>pickup_datetime</th>\n",
       "      <th>dropOff_datetime</th>\n",
       "      <th>ride_id</th>\n",
       "    </tr>\n",
       "  </thead>\n",
       "  <tbody>\n",
       "    <tr>\n",
       "      <th>0</th>\n",
       "      <td>NaN</td>\n",
       "      <td>NaN</td>\n",
       "      <td>2021-01-01 01:02:00</td>\n",
       "      <td>2021-01-01 01:10:00</td>\n",
       "      <td>2022/08_0</td>\n",
       "    </tr>\n",
       "    <tr>\n",
       "      <th>1</th>\n",
       "      <td>1.0</td>\n",
       "      <td>1.0</td>\n",
       "      <td>2021-01-01 01:02:00</td>\n",
       "      <td>2021-01-01 01:10:00</td>\n",
       "      <td>2022/08_1</td>\n",
       "    </tr>\n",
       "    <tr>\n",
       "      <th>2</th>\n",
       "      <td>1.0</td>\n",
       "      <td>1.0</td>\n",
       "      <td>2021-01-01 01:02:00</td>\n",
       "      <td>2021-01-01 01:02:50</td>\n",
       "      <td>2022/08_2</td>\n",
       "    </tr>\n",
       "    <tr>\n",
       "      <th>3</th>\n",
       "      <td>1.0</td>\n",
       "      <td>1.0</td>\n",
       "      <td>2021-01-01 01:02:00</td>\n",
       "      <td>2021-01-01 02:02:01</td>\n",
       "      <td>2022/08_3</td>\n",
       "    </tr>\n",
       "  </tbody>\n",
       "</table>\n",
       "</div>"
      ],
      "text/plain": [
       "   PUlocationID  DOlocationID     pickup_datetime    dropOff_datetime  \\\n",
       "0           NaN           NaN 2021-01-01 01:02:00 2021-01-01 01:10:00   \n",
       "1           1.0           1.0 2021-01-01 01:02:00 2021-01-01 01:10:00   \n",
       "2           1.0           1.0 2021-01-01 01:02:00 2021-01-01 01:02:50   \n",
       "3           1.0           1.0 2021-01-01 01:02:00 2021-01-01 02:02:01   \n",
       "\n",
       "     ride_id  \n",
       "0  2022/08_0  \n",
       "1  2022/08_1  \n",
       "2  2022/08_2  \n",
       "3  2022/08_3  "
      ]
     },
     "execution_count": 12,
     "metadata": {},
     "output_type": "execute_result"
    }
   ],
   "source": [
    "df.head()"
   ]
  },
  {
   "cell_type": "code",
   "execution_count": 20,
   "id": "3b887238",
   "metadata": {},
   "outputs": [],
   "source": [
    "#make expected output\n",
    "\n",
    "import sys\n",
    "import pickle\n",
    "import pandas as pd\n",
    "import datetime\n",
    "\n",
    "with open('/home/ubuntu/mlops-zoomcamp_week6/06-best-practices/homework/model.bin', 'rb') as f_in:\n",
    "    dv, lr = pickle.load(f_in)\n",
    "    \n",
    "    \n",
    "\n",
    "categorical = ['PUlocationID', 'DOlocationID']\n",
    "\n",
    "def read_data(filename):\n",
    "    df = pd.read_parquet(filename)\n",
    "    \n",
    "    df['duration'] = df.dropOff_datetime - df.pickup_datetime\n",
    "    df['duration'] = df.duration.dt.total_seconds() / 60\n",
    "\n",
    "    df = df[(df.duration >= 1) & (df.duration <= 60)].copy()\n",
    "\n",
    "    df[categorical] = df[categorical].fillna(-1).astype('int').astype('str')\n",
    "    \n",
    "    return df"
   ]
  },
  {
   "cell_type": "code",
   "execution_count": 23,
   "id": "d9e5ff07",
   "metadata": {},
   "outputs": [
    {
     "name": "stdout",
     "output_type": "stream",
     "text": [
      "predicted mean duration: 34.64434841620357\n"
     ]
    }
   ],
   "source": [
    "input_file='input_unit_test.parquet'\n",
    "excepted_output=\"excepted_output.parquet\"\n",
    "df = read_data(input_file)\n",
    "df['ride_id'] = f'{year:04d}/{month:02d}_' + df.index.astype('str')\n",
    "\n",
    "\n",
    "dicts = df[categorical].to_dict(orient='records')\n",
    "X_val = dv.transform(dicts)\n",
    "y_pred = lr.predict(X_val)\n",
    "\n",
    "\n",
    "print('predicted mean duration:', y_pred.mean())\n",
    "\n",
    "\n",
    "df_result = pd.DataFrame()\n",
    "df_result['ride_id'] = df['ride_id']\n",
    "df_result['predicted_duration'] = y_pred\n",
    "\n",
    "df_result.to_parquet(excepted_output, engine='pyarrow', index=False)"
   ]
  },
  {
   "cell_type": "code",
   "execution_count": 25,
   "id": "34ee5902",
   "metadata": {},
   "outputs": [
    {
     "data": {
      "text/html": [
       "<div>\n",
       "<style scoped>\n",
       "    .dataframe tbody tr th:only-of-type {\n",
       "        vertical-align: middle;\n",
       "    }\n",
       "\n",
       "    .dataframe tbody tr th {\n",
       "        vertical-align: top;\n",
       "    }\n",
       "\n",
       "    .dataframe thead th {\n",
       "        text-align: right;\n",
       "    }\n",
       "</style>\n",
       "<table border=\"1\" class=\"dataframe\">\n",
       "  <thead>\n",
       "    <tr style=\"text-align: right;\">\n",
       "      <th></th>\n",
       "      <th>ride_id</th>\n",
       "      <th>predicted_duration</th>\n",
       "    </tr>\n",
       "  </thead>\n",
       "  <tbody>\n",
       "    <tr>\n",
       "      <th>0</th>\n",
       "      <td>2022/08_0</td>\n",
       "      <td>23.052085</td>\n",
       "    </tr>\n",
       "    <tr>\n",
       "      <th>1</th>\n",
       "      <td>2022/08_1</td>\n",
       "      <td>46.236612</td>\n",
       "    </tr>\n",
       "  </tbody>\n",
       "</table>\n",
       "</div>"
      ],
      "text/plain": [
       "     ride_id  predicted_duration\n",
       "0  2022/08_0           23.052085\n",
       "1  2022/08_1           46.236612"
      ]
     },
     "execution_count": 25,
     "metadata": {},
     "output_type": "execute_result"
    }
   ],
   "source": [
    "df_result.head()"
   ]
  },
  {
   "cell_type": "code",
   "execution_count": 35,
   "id": "b5e73c1e",
   "metadata": {},
   "outputs": [
    {
     "ename": "FileNotFoundError",
     "evalue": "[Errno 2] No such file or directory: 'model.bin'",
     "output_type": "error",
     "traceback": [
      "\u001b[0;31m---------------------------------------------------------------------------\u001b[0m",
      "\u001b[0;31mFileNotFoundError\u001b[0m                         Traceback (most recent call last)",
      "Input \u001b[0;32mIn [35]\u001b[0m, in \u001b[0;36m<cell line: 1>\u001b[0;34m()\u001b[0m\n\u001b[0;32m----> 1\u001b[0m \u001b[38;5;28;01mimport\u001b[39;00m \u001b[38;5;21;01mtest_batch\u001b[39;00m\n",
      "File \u001b[0;32m~/mlops-zoomcamp_week6/06-best-practices/homework/tests/test_batch.py:11\u001b[0m, in \u001b[0;36m<module>\u001b[0;34m\u001b[0m\n\u001b[1;32m      9\u001b[0m def read_data(filename,categorical):\n\u001b[1;32m     10\u001b[0m     df = pd.read_parquet(filename)\n\u001b[0;32m---> 11\u001b[0m     \n\u001b[1;32m     12\u001b[0m     df['duration'] = df.dropOff_datetime - df.pickup_datetime\n\u001b[1;32m     13\u001b[0m     df['duration'] = df.duration.dt.total_seconds() / 60\n",
      "File \u001b[0;32m~/mlops-zoomcamp_week6/06-best-practices/homework/tests/../batch_edit.py:12\u001b[0m, in \u001b[0;36m<module>\u001b[0;34m\u001b[0m\n\u001b[1;32m      7\u001b[0m \u001b[38;5;28;01mimport\u001b[39;00m \u001b[38;5;21;01mdatetime\u001b[39;00m\n\u001b[1;32m      9\u001b[0m \u001b[38;5;28;01mfrom\u001b[39;00m \u001b[38;5;21;01mpathlib\u001b[39;00m \u001b[38;5;28;01mimport\u001b[39;00m Path\n\u001b[0;32m---> 12\u001b[0m \u001b[38;5;28;01mwith\u001b[39;00m \u001b[38;5;28;43mopen\u001b[39;49m\u001b[43m(\u001b[49m\u001b[38;5;124;43m'\u001b[39;49m\u001b[38;5;124;43mmodel.bin\u001b[39;49m\u001b[38;5;124;43m'\u001b[39;49m\u001b[43m,\u001b[49m\u001b[43m \u001b[49m\u001b[38;5;124;43m'\u001b[39;49m\u001b[38;5;124;43mrb\u001b[39;49m\u001b[38;5;124;43m'\u001b[39;49m\u001b[43m)\u001b[49m \u001b[38;5;28;01mas\u001b[39;00m f_in:\n\u001b[1;32m     13\u001b[0m     dv, lr \u001b[38;5;241m=\u001b[39m pickle\u001b[38;5;241m.\u001b[39mload(f_in)\n\u001b[1;32m     18\u001b[0m \u001b[38;5;28;01mdef\u001b[39;00m \u001b[38;5;21mread_data\u001b[39m(filename,categorical):\n",
      "\u001b[0;31mFileNotFoundError\u001b[0m: [Errno 2] No such file or directory: 'model.bin'"
     ]
    }
   ],
   "source": [
    "import test_batch"
   ]
  },
  {
   "cell_type": "code",
   "execution_count": 31,
   "id": "9f58667d",
   "metadata": {},
   "outputs": [
    {
     "data": {
      "text/plain": [
       "'/home/ubuntu/mlops-zoomcamp_week6/06-best-practices/homework/tests'"
      ]
     },
     "execution_count": 31,
     "metadata": {},
     "output_type": "execute_result"
    }
   ],
   "source": [
    "pwd"
   ]
  },
  {
   "cell_type": "code",
   "execution_count": 32,
   "id": "92db1f22",
   "metadata": {},
   "outputs": [
    {
     "name": "stdout",
     "output_type": "stream",
     "text": [
      "__init__.py\t\t input_unit_test\t  test_batch_utility.ipynb\r\n",
      "__pycache__\t\t input_unit_test.parquet\r\n",
      "excepted_output.parquet  test_batch.py\r\n"
     ]
    }
   ],
   "source": [
    "!ls"
   ]
  },
  {
   "cell_type": "code",
   "execution_count": 1,
   "id": "7bfc4a27",
   "metadata": {},
   "outputs": [
    {
     "name": "stdout",
     "output_type": "stream",
     "text": [
      "__init__.py   excepted_output.parquet  test_batch.py\r\n",
      "\u001b[0m\u001b[01;34m__pycache__\u001b[0m/  input_unit_test.parquet  test_batch_utility.ipynb\r\n"
     ]
    }
   ],
   "source": [
    "ls"
   ]
  },
  {
   "cell_type": "code",
   "execution_count": 2,
   "id": "9cff5868",
   "metadata": {},
   "outputs": [
    {
     "name": "stdout",
     "output_type": "stream",
     "text": [
      "/home/ubuntu/mlops-zoomcamp_week6/06-best-practices/homework\n"
     ]
    }
   ],
   "source": [
    "cd ..\n"
   ]
  },
  {
   "cell_type": "code",
   "execution_count": 3,
   "id": "86d36ade",
   "metadata": {},
   "outputs": [
    {
     "name": "stdout",
     "output_type": "stream",
     "text": [
      " Dockerfile     batch_intgration.py  'taxi_type=fhv_year=2021_month=02.parquet'\r\n",
      " Pipfile        docker-compose.yaml   test_batch.py\r\n",
      " Pipfile.lock   integration_test.py   test_ligic.ipynb\r\n",
      " \u001b[0m\u001b[01;34m__pycache__\u001b[0m/   model.bin             \u001b[01;34mtests\u001b[0m/\r\n",
      " batch.py       \u001b[01;32mrun.sh\u001b[0m*\r\n"
     ]
    }
   ],
   "source": [
    "ls\n"
   ]
  },
  {
   "cell_type": "code",
   "execution_count": 8,
   "id": "2aabcf22",
   "metadata": {},
   "outputs": [
    {
     "name": "stdout",
     "output_type": "stream",
     "text": [
      "predicted mean duration: 16.191691679979066\n",
      "                 ride_id  predicted_duration\n",
      "1              2021/02_1           14.539865\n",
      "2              2021/02_2           13.740422\n",
      "3              2021/02_3           15.593339\n",
      "4              2021/02_4           15.188118\n",
      "5              2021/02_5           13.817206\n",
      "...                  ...                 ...\n",
      "1037687  2021/02_1037687           12.433246\n",
      "1037688  2021/02_1037688           12.910885\n",
      "1037689  2021/02_1037689           15.834923\n",
      "1037690  2021/02_1037690           16.783176\n",
      "1037691  2021/02_1037691           19.654626\n",
      "\n",
      "[990113 rows x 2 columns]\n"
     ]
    }
   ],
   "source": [
    "!python batch.py "
   ]
  },
  {
   "cell_type": "code",
   "execution_count": null,
   "id": "673e052c",
   "metadata": {},
   "outputs": [],
   "source": []
  }
 ],
 "metadata": {
  "kernelspec": {
   "display_name": "Python 3 (ipykernel)",
   "language": "python",
   "name": "python3"
  },
  "language_info": {
   "codemirror_mode": {
    "name": "ipython",
    "version": 3
   },
   "file_extension": ".py",
   "mimetype": "text/x-python",
   "name": "python",
   "nbconvert_exporter": "python",
   "pygments_lexer": "ipython3",
   "version": "3.9.12"
  }
 },
 "nbformat": 4,
 "nbformat_minor": 5
}
